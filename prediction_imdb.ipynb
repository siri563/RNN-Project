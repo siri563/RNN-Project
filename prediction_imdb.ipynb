{
 "cells": [
  {
   "cell_type": "code",
   "execution_count": 1,
   "metadata": {},
   "outputs": [],
   "source": [
    "### Step1: Import Libraries and Load the model\n",
    "import numpy as np\n",
    "import tensorflow as tf\n",
    "from tensorflow.keras.datasets import imdb\n",
    "from tensorflow.keras.preprocessing import sequence\n",
    "from tensorflow.keras.models import load_model\n"
   ]
  },
  {
   "cell_type": "code",
   "execution_count": 2,
   "metadata": {},
   "outputs": [],
   "source": [
    "# Load the IMDB Dataset word index\n",
    "word_index = imdb.get_word_index()\n",
    "reverse_word_index = {value:key for key, value in word_index.items()}"
   ]
  },
  {
   "cell_type": "code",
   "execution_count": 3,
   "metadata": {},
   "outputs": [
    {
     "name": "stderr",
     "output_type": "stream",
     "text": [
      "WARNING:absl:Compiled the loaded model, but the compiled metrics have yet to be built. `model.compile_metrics` will be empty until you train or evaluate the model.\n"
     ]
    },
    {
     "data": {
      "text/html": [
       "<pre style=\"white-space:pre;overflow-x:auto;line-height:normal;font-family:Menlo,'DejaVu Sans Mono',consolas,'Courier New',monospace\"><span style=\"font-weight: bold\">Model: \"sequential\"</span>\n",
       "</pre>\n"
      ],
      "text/plain": [
       "\u001b[1mModel: \"sequential\"\u001b[0m\n"
      ]
     },
     "metadata": {},
     "output_type": "display_data"
    },
    {
     "data": {
      "text/html": [
       "<pre style=\"white-space:pre;overflow-x:auto;line-height:normal;font-family:Menlo,'DejaVu Sans Mono',consolas,'Courier New',monospace\">┏━━━━━━━━━━━━━━━━━━━━━━━━━━━━━━━━━┳━━━━━━━━━━━━━━━━━━━━━━━━┳━━━━━━━━━━━━━━━┓\n",
       "┃<span style=\"font-weight: bold\"> Layer (type)                    </span>┃<span style=\"font-weight: bold\"> Output Shape           </span>┃<span style=\"font-weight: bold\">       Param # </span>┃\n",
       "┡━━━━━━━━━━━━━━━━━━━━━━━━━━━━━━━━━╇━━━━━━━━━━━━━━━━━━━━━━━━╇━━━━━━━━━━━━━━━┩\n",
       "│ embedding (<span style=\"color: #0087ff; text-decoration-color: #0087ff\">Embedding</span>)           │ (<span style=\"color: #00af00; text-decoration-color: #00af00\">32</span>, <span style=\"color: #00af00; text-decoration-color: #00af00\">500</span>, <span style=\"color: #00af00; text-decoration-color: #00af00\">128</span>)         │     <span style=\"color: #00af00; text-decoration-color: #00af00\">1,280,000</span> │\n",
       "├─────────────────────────────────┼────────────────────────┼───────────────┤\n",
       "│ simple_rnn (<span style=\"color: #0087ff; text-decoration-color: #0087ff\">SimpleRNN</span>)          │ (<span style=\"color: #00af00; text-decoration-color: #00af00\">32</span>, <span style=\"color: #00af00; text-decoration-color: #00af00\">128</span>)              │        <span style=\"color: #00af00; text-decoration-color: #00af00\">32,896</span> │\n",
       "├─────────────────────────────────┼────────────────────────┼───────────────┤\n",
       "│ dense (<span style=\"color: #0087ff; text-decoration-color: #0087ff\">Dense</span>)                   │ (<span style=\"color: #00af00; text-decoration-color: #00af00\">32</span>, <span style=\"color: #00af00; text-decoration-color: #00af00\">1</span>)                │           <span style=\"color: #00af00; text-decoration-color: #00af00\">129</span> │\n",
       "└─────────────────────────────────┴────────────────────────┴───────────────┘\n",
       "</pre>\n"
      ],
      "text/plain": [
       "┏━━━━━━━━━━━━━━━━━━━━━━━━━━━━━━━━━┳━━━━━━━━━━━━━━━━━━━━━━━━┳━━━━━━━━━━━━━━━┓\n",
       "┃\u001b[1m \u001b[0m\u001b[1mLayer (type)                   \u001b[0m\u001b[1m \u001b[0m┃\u001b[1m \u001b[0m\u001b[1mOutput Shape          \u001b[0m\u001b[1m \u001b[0m┃\u001b[1m \u001b[0m\u001b[1m      Param #\u001b[0m\u001b[1m \u001b[0m┃\n",
       "┡━━━━━━━━━━━━━━━━━━━━━━━━━━━━━━━━━╇━━━━━━━━━━━━━━━━━━━━━━━━╇━━━━━━━━━━━━━━━┩\n",
       "│ embedding (\u001b[38;5;33mEmbedding\u001b[0m)           │ (\u001b[38;5;34m32\u001b[0m, \u001b[38;5;34m500\u001b[0m, \u001b[38;5;34m128\u001b[0m)         │     \u001b[38;5;34m1,280,000\u001b[0m │\n",
       "├─────────────────────────────────┼────────────────────────┼───────────────┤\n",
       "│ simple_rnn (\u001b[38;5;33mSimpleRNN\u001b[0m)          │ (\u001b[38;5;34m32\u001b[0m, \u001b[38;5;34m128\u001b[0m)              │        \u001b[38;5;34m32,896\u001b[0m │\n",
       "├─────────────────────────────────┼────────────────────────┼───────────────┤\n",
       "│ dense (\u001b[38;5;33mDense\u001b[0m)                   │ (\u001b[38;5;34m32\u001b[0m, \u001b[38;5;34m1\u001b[0m)                │           \u001b[38;5;34m129\u001b[0m │\n",
       "└─────────────────────────────────┴────────────────────────┴───────────────┘\n"
      ]
     },
     "metadata": {},
     "output_type": "display_data"
    },
    {
     "data": {
      "text/html": [
       "<pre style=\"white-space:pre;overflow-x:auto;line-height:normal;font-family:Menlo,'DejaVu Sans Mono',consolas,'Courier New',monospace\"><span style=\"font-weight: bold\"> Total params: </span><span style=\"color: #00af00; text-decoration-color: #00af00\">1,313,027</span> (5.01 MB)\n",
       "</pre>\n"
      ],
      "text/plain": [
       "\u001b[1m Total params: \u001b[0m\u001b[38;5;34m1,313,027\u001b[0m (5.01 MB)\n"
      ]
     },
     "metadata": {},
     "output_type": "display_data"
    },
    {
     "data": {
      "text/html": [
       "<pre style=\"white-space:pre;overflow-x:auto;line-height:normal;font-family:Menlo,'DejaVu Sans Mono',consolas,'Courier New',monospace\"><span style=\"font-weight: bold\"> Trainable params: </span><span style=\"color: #00af00; text-decoration-color: #00af00\">1,313,025</span> (5.01 MB)\n",
       "</pre>\n"
      ],
      "text/plain": [
       "\u001b[1m Trainable params: \u001b[0m\u001b[38;5;34m1,313,025\u001b[0m (5.01 MB)\n"
      ]
     },
     "metadata": {},
     "output_type": "display_data"
    },
    {
     "data": {
      "text/html": [
       "<pre style=\"white-space:pre;overflow-x:auto;line-height:normal;font-family:Menlo,'DejaVu Sans Mono',consolas,'Courier New',monospace\"><span style=\"font-weight: bold\"> Non-trainable params: </span><span style=\"color: #00af00; text-decoration-color: #00af00\">0</span> (0.00 B)\n",
       "</pre>\n"
      ],
      "text/plain": [
       "\u001b[1m Non-trainable params: \u001b[0m\u001b[38;5;34m0\u001b[0m (0.00 B)\n"
      ]
     },
     "metadata": {},
     "output_type": "display_data"
    },
    {
     "data": {
      "text/html": [
       "<pre style=\"white-space:pre;overflow-x:auto;line-height:normal;font-family:Menlo,'DejaVu Sans Mono',consolas,'Courier New',monospace\"><span style=\"font-weight: bold\"> Optimizer params: </span><span style=\"color: #00af00; text-decoration-color: #00af00\">2</span> (12.00 B)\n",
       "</pre>\n"
      ],
      "text/plain": [
       "\u001b[1m Optimizer params: \u001b[0m\u001b[38;5;34m2\u001b[0m (12.00 B)\n"
      ]
     },
     "metadata": {},
     "output_type": "display_data"
    }
   ],
   "source": [
    "# Load the pre-trained model with ReLU activation\n",
    "model = load_model('simple_rnn_imdb.h5')\n",
    "model.summary()"
   ]
  },
  {
   "cell_type": "code",
   "execution_count": 4,
   "metadata": {},
   "outputs": [
    {
     "data": {
      "text/plain": [
       "[array([[-0.2949893 , -0.36002114, -0.34494817, ..., -0.23890918,\n",
       "          0.3322622 , -0.3994459 ],\n",
       "        [-0.07682837, -0.03195354,  0.0133873 , ..., -0.01439468,\n",
       "         -0.04571689, -0.02368992],\n",
       "        [-0.05344305,  0.05227881, -0.04090913, ..., -0.00781503,\n",
       "          0.09312122,  0.03689796],\n",
       "        ...,\n",
       "        [ 0.09001482,  0.07470489,  0.04311091, ..., -0.02005847,\n",
       "         -0.02077799,  0.08466269],\n",
       "        [-0.00761366, -0.05414444, -0.07543091, ...,  0.00898268,\n",
       "          0.08496104, -0.07304199],\n",
       "        [ 0.02467903,  0.07862079,  0.05513187, ..., -0.06222684,\n",
       "         -0.11728726,  0.0094114 ]], dtype=float32),\n",
       " array([[ 0.08015694,  0.11470235, -0.10167045, ...,  0.0239864 ,\n",
       "          0.02000954,  0.1748134 ],\n",
       "        [-0.10087149,  0.10175637, -0.04091175, ..., -0.02540625,\n",
       "         -0.07339744,  0.06050387],\n",
       "        [ 0.14064255,  0.07660995, -0.06931774, ..., -0.05027505,\n",
       "          0.08372319, -0.13004006],\n",
       "        ...,\n",
       "        [-0.15962312,  0.13415088, -0.01030492, ...,  0.02127275,\n",
       "          0.12633765,  0.01090176],\n",
       "        [-0.0306227 ,  0.07251218,  0.09788554, ..., -0.02088227,\n",
       "          0.15496975,  0.05321363],\n",
       "        [-0.09917863, -0.16315687, -0.11831749, ...,  0.10220701,\n",
       "          0.05541682,  0.12431964]], dtype=float32),\n",
       " array([[ 0.40447125,  0.01773143, -0.12715383, ..., -0.01349339,\n",
       "         -0.20013696, -0.13230784],\n",
       "        [ 0.05340401,  0.11045141, -0.06369469, ...,  0.13051397,\n",
       "          0.17951462, -0.09648429],\n",
       "        [-0.11346376,  0.01173531,  0.05045502, ...,  0.11567491,\n",
       "          0.08473239,  0.14062278],\n",
       "        ...,\n",
       "        [ 0.04903799,  0.03055905,  0.04401782, ..., -0.09349845,\n",
       "          0.02436386,  0.05093618],\n",
       "        [-0.05947108,  0.01895203,  0.18377087, ..., -0.12026357,\n",
       "          0.02610881, -0.10150174],\n",
       "        [ 0.09994533,  0.09571116, -0.0097934 , ..., -0.04899079,\n",
       "         -0.03433839,  0.04153159]], dtype=float32),\n",
       " array([-1.61469467e-02, -2.32434180e-02, -3.65771004e-03, -5.06521538e-02,\n",
       "        -5.93418721e-03, -5.76627615e-04, -5.06357756e-03, -4.33317721e-02,\n",
       "        -5.11632208e-03,  1.43420426e-02, -1.77959632e-02,  2.23447941e-02,\n",
       "        -1.85497981e-02, -1.63017772e-02, -2.15728991e-02,  1.84424799e-02,\n",
       "        -7.78223737e-04,  4.53767926e-02,  2.56917514e-02, -2.16082926e-03,\n",
       "         7.12693483e-03, -4.41687927e-02,  2.30419706e-03, -2.43958030e-02,\n",
       "        -6.30890392e-03, -3.64837330e-03, -1.91262495e-02, -2.45934539e-02,\n",
       "         1.20061217e-03, -1.17662568e-02, -1.47175230e-02, -1.76226478e-02,\n",
       "        -6.75842445e-03,  1.73361376e-02,  5.54595090e-06, -5.65605611e-03,\n",
       "        -1.73985660e-02, -2.37770192e-02,  7.84253760e-04,  1.13428663e-02,\n",
       "         4.59548645e-03, -1.97324790e-02, -3.03843804e-02,  4.85680718e-03,\n",
       "        -6.98178262e-03,  8.51210672e-03, -4.34010401e-02,  2.62124594e-02,\n",
       "         1.35070272e-02, -2.70557702e-02, -1.29047902e-02, -1.22309625e-02,\n",
       "        -2.05957890e-02, -1.51442392e-02,  7.38852285e-03,  1.86957736e-02,\n",
       "        -9.28302109e-03, -1.35559486e-02, -3.96268349e-03, -2.01040674e-02,\n",
       "         2.71896292e-02,  3.45561802e-02, -8.39413516e-03, -4.63126367e-03,\n",
       "        -5.15109953e-03, -4.93412279e-03, -1.11776451e-02,  1.34919025e-02,\n",
       "         2.34894063e-02, -1.76129527e-02,  7.03539513e-03,  8.97436589e-03,\n",
       "        -2.60137883e-03,  1.42056942e-02,  4.89688441e-02,  1.89308096e-02,\n",
       "        -6.75022975e-03,  1.74464155e-02,  8.70330911e-03,  3.88953777e-04,\n",
       "         3.00741512e-02,  2.21835710e-02, -2.54247859e-02, -1.41582796e-02,\n",
       "         1.04729861e-05, -3.41052376e-03, -8.84805620e-03, -3.20297666e-02,\n",
       "        -2.79299542e-03, -1.89548731e-02,  1.95468701e-02,  1.83931850e-02,\n",
       "         3.14237922e-03,  1.26373619e-02,  5.58283888e-02,  2.38388535e-02,\n",
       "        -9.01667774e-03,  2.74944529e-02, -1.07200006e-02,  1.96671318e-02,\n",
       "        -1.69072971e-02,  2.25707442e-02, -1.46663832e-02, -1.04983561e-02,\n",
       "        -1.16262613e-02,  1.82396069e-03, -3.40321288e-02, -1.40751218e-02,\n",
       "         9.42706782e-03, -1.24849444e-02,  6.56838249e-03,  8.83327704e-03,\n",
       "         1.63545978e-04,  2.48908885e-02,  3.13963629e-02, -1.15991114e-02,\n",
       "        -2.81970780e-02, -6.39842218e-03, -1.03356354e-02, -1.03704759e-03,\n",
       "        -5.39678615e-03,  2.38400660e-02, -3.10390443e-02, -4.15775692e-03,\n",
       "        -7.90371280e-03, -1.36960875e-02, -4.28253226e-03, -2.76011731e-02],\n",
       "       dtype=float32),\n",
       " array([[ 0.24845581],\n",
       "        [ 0.03228079],\n",
       "        [ 0.04355873],\n",
       "        [-0.08611879],\n",
       "        [-0.09842396],\n",
       "        [-0.02809324],\n",
       "        [ 0.09679221],\n",
       "        [ 0.16561235],\n",
       "        [-0.1614986 ],\n",
       "        [-0.08359821],\n",
       "        [-0.02459825],\n",
       "        [-0.12471245],\n",
       "        [ 0.2760642 ],\n",
       "        [ 0.16937657],\n",
       "        [ 0.13637117],\n",
       "        [ 0.17061771],\n",
       "        [-0.12205363],\n",
       "        [ 0.00565376],\n",
       "        [-0.21298924],\n",
       "        [ 0.10242011],\n",
       "        [-0.03219624],\n",
       "        [-0.10829373],\n",
       "        [ 0.12630749],\n",
       "        [ 0.18220246],\n",
       "        [ 0.12280764],\n",
       "        [ 0.21672106],\n",
       "        [-0.20372759],\n",
       "        [ 0.13140748],\n",
       "        [ 0.1063851 ],\n",
       "        [-0.11093235],\n",
       "        [ 0.05609439],\n",
       "        [ 0.17240421],\n",
       "        [ 0.19110174],\n",
       "        [ 0.14538358],\n",
       "        [-0.11384062],\n",
       "        [ 0.09860902],\n",
       "        [-0.12714885],\n",
       "        [-0.19743551],\n",
       "        [ 0.43065077],\n",
       "        [-0.25395444],\n",
       "        [-0.20034532],\n",
       "        [-0.08017424],\n",
       "        [ 0.03453507],\n",
       "        [ 0.0932738 ],\n",
       "        [-0.14853464],\n",
       "        [-0.02152736],\n",
       "        [-0.12071311],\n",
       "        [-0.0355352 ],\n",
       "        [-0.07358235],\n",
       "        [ 0.11902884],\n",
       "        [-0.05237403],\n",
       "        [ 0.13285105],\n",
       "        [ 0.17045644],\n",
       "        [ 0.04852374],\n",
       "        [-0.22865914],\n",
       "        [ 0.09764741],\n",
       "        [ 0.06350832],\n",
       "        [ 0.10655351],\n",
       "        [-0.23811716],\n",
       "        [-0.12044035],\n",
       "        [ 0.04390809],\n",
       "        [-0.08544496],\n",
       "        [-0.1386904 ],\n",
       "        [ 0.06626796],\n",
       "        [ 0.0257674 ],\n",
       "        [ 0.04765993],\n",
       "        [ 0.14884733],\n",
       "        [ 0.06594565],\n",
       "        [-0.12600042],\n",
       "        [ 0.14280425],\n",
       "        [-0.02740039],\n",
       "        [-0.0766833 ],\n",
       "        [ 0.05369258],\n",
       "        [ 0.08827602],\n",
       "        [-0.09262834],\n",
       "        [ 0.16194321],\n",
       "        [ 0.08287118],\n",
       "        [-0.14942946],\n",
       "        [ 0.14324293],\n",
       "        [ 0.22811405],\n",
       "        [-0.1098644 ],\n",
       "        [ 0.03702205],\n",
       "        [-0.09463047],\n",
       "        [ 0.11462528],\n",
       "        [-0.01949668],\n",
       "        [ 0.1873991 ],\n",
       "        [-0.09310902],\n",
       "        [-0.05665946],\n",
       "        [-0.03924569],\n",
       "        [-0.1571276 ],\n",
       "        [-0.21201275],\n",
       "        [-0.17502743],\n",
       "        [-0.1636149 ],\n",
       "        [-0.20220777],\n",
       "        [-0.17944698],\n",
       "        [ 0.17193529],\n",
       "        [ 0.16768828],\n",
       "        [ 0.10704646],\n",
       "        [ 0.02494397],\n",
       "        [-0.07570983],\n",
       "        [ 0.12064485],\n",
       "        [ 0.18117443],\n",
       "        [ 0.02374997],\n",
       "        [-0.16000283],\n",
       "        [-0.1729282 ],\n",
       "        [ 0.00356172],\n",
       "        [ 0.10308282],\n",
       "        [ 0.1547069 ],\n",
       "        [-0.01699777],\n",
       "        [ 0.03331507],\n",
       "        [-0.10635556],\n",
       "        [ 0.8595127 ],\n",
       "        [ 0.05231715],\n",
       "        [ 0.21953352],\n",
       "        [ 0.05909582],\n",
       "        [-0.17866619],\n",
       "        [ 0.18417865],\n",
       "        [ 0.1946043 ],\n",
       "        [ 0.02703268],\n",
       "        [ 0.1722115 ],\n",
       "        [-0.12776844],\n",
       "        [ 0.08106841],\n",
       "        [ 0.08449738],\n",
       "        [ 0.01451204],\n",
       "        [ 0.03307055],\n",
       "        [ 0.12968446],\n",
       "        [-0.09162264],\n",
       "        [-0.06409949]], dtype=float32),\n",
       " array([0.98855764], dtype=float32)]"
      ]
     },
     "execution_count": 4,
     "metadata": {},
     "output_type": "execute_result"
    }
   ],
   "source": [
    "model.get_weights()"
   ]
  },
  {
   "cell_type": "code",
   "execution_count": 5,
   "metadata": {},
   "outputs": [],
   "source": [
    "# Step 2: Helper Functions\n",
    "# Function to decode reviews\n",
    "def decode_review(encoded_review):\n",
    "    return ' '.join([reverse_word_index.get(i - 3, '?') for i in encoded_review])\n",
    "\n",
    "# Function to preprocess user input\n",
    "def preprocess_text(text):\n",
    "    words = text.lower().split()\n",
    "    encoded_review = [word_index.get(word, 2) + 3 for word in words]\n",
    "    padded_review = sequence.pad_sequences([encoded_review], maxlen=500)\n",
    "    return padded_review"
   ]
  },
  {
   "cell_type": "code",
   "execution_count": 6,
   "metadata": {},
   "outputs": [],
   "source": [
    "### Prediction  function\n",
    "\n",
    "def predict_sentiment(review):\n",
    "    preprocessed_input=preprocess_text(review)\n",
    "\n",
    "    prediction=model.predict(preprocessed_input)\n",
    "\n",
    "    sentiment = 'Positive' if prediction[0][0] > 0.5 else 'Negative'\n",
    "    \n",
    "    return sentiment, prediction[0][0]\n",
    "\n"
   ]
  },
  {
   "cell_type": "code",
   "execution_count": 8,
   "metadata": {},
   "outputs": [
    {
     "name": "stdout",
     "output_type": "stream",
     "text": [
      "\u001b[1m1/1\u001b[0m \u001b[32m━━━━━━━━━━━━━━━━━━━━\u001b[0m\u001b[37m\u001b[0m \u001b[1m0s\u001b[0m 345ms/step\n",
      "Review: This movie was fantastic! The acting was great and the plot was thrilling.\n",
      "Sentiment: Negative\n",
      "Prediction Score: 0.0002108695771312341\n"
     ]
    }
   ],
   "source": [
    "# Step 4: User Input and Prediction\n",
    "# Example review for prediction\n",
    "example_review = \"This movie was fantastic! The acting was great and the plot was thrilling.\"\n",
    "\n",
    "sentiment,score=predict_sentiment(example_review)\n",
    "\n",
    "print(f'Review: {example_review}')\n",
    "print(f'Sentiment: {sentiment}')\n",
    "print(f'Prediction Score: {score}')"
   ]
  },
  {
   "cell_type": "code",
   "execution_count": null,
   "metadata": {},
   "outputs": [],
   "source": []
  }
 ],
 "metadata": {
  "kernelspec": {
   "display_name": "venv",
   "language": "python",
   "name": "python3"
  },
  "language_info": {
   "codemirror_mode": {
    "name": "ipython",
    "version": 3
   },
   "file_extension": ".py",
   "mimetype": "text/x-python",
   "name": "python",
   "nbconvert_exporter": "python",
   "pygments_lexer": "ipython3",
   "version": "3.10.10"
  }
 },
 "nbformat": 4,
 "nbformat_minor": 2
}
